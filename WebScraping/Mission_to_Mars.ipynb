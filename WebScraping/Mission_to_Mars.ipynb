# To add a new cell, type '#%%'
# To add a new markdown cell, type '#%% [markdown]'
#%%
from IPython import get_ipython


#%%
# Import Splinter and BeautifulSoup
from splinter import Browser
from bs4 import BeautifulSoup


#%%
# Path to chromedriver
get_ipython().system('which chromedriver')


#%%
# Set the executable path and initialize the chrome browser in splinter
executable_path = {'executable_path': 'C:/Users/bvkka/Downloads/chromedriver_win32'}
browser = Browser('chrome', **executable_path)

#%% [markdown]
# ## Visit the NASA mars news site

#%%
# Visit the mars nasa news site
url = 'https://mars.nasa.gov/news/'
browser.visit(url)

# Optional delay for loading the page
browser.is_element_present_by_css("ul.item_list li.slide", wait_time=1)


#%%
# Convert the browser html to a soup object and then quit the browser
html = browser.html
news_soup = BeautifulSoup(html, 'html.parser')

slide_elem = news_soup.select_one('ul.item_list li.slide')


#%%
slide_elem.find("div", class_='content_title')


#%%
# Use the parent element to find the first a tag and save it as `news_title`
news_title = slide_elem.find("div", class_='content_title').get_text()
news_title


#%%
# Use the parent element to find the paragraph text
news_p = slide_elem.find('div', class_="article_teaser_body").get_text()
news_p

#%% [markdown]
# ## JPL Space Images Featured Image

#%%
# Visit URL
url = 'https://www.jpl.nasa.gov/spaceimages/?search=&category=Mars'
browser.visit(url)


#%%
# Find and click the full image button
full_image_elem = browser.find_by_id('full_image')
full_image_elem.click()


#%%
# Find the more info button and click that
browser.is_element_present_by_text('more info', wait_time=1)
more_info_elem = browser.find_link_by_partial_text('more info')
more_info_elem.click()


#%%
# Parse the resulting html with soup
html = browser.html
img_soup = BeautifulSoup(html, 'html.parser')


#%%
# find the relative image url
img_url_rel = img_soup.select_one('figure.lede a img').get("src")
img_url_rel


#%%
# Use the base url to create an absolute url
img_url = f'https://www.jpl.nasa.gov{img_url_rel}'
img_url

#%% [markdown]
# ## Mars Weather

#%%
url = 'https://twitter.com/marswxreport?lang=en'
browser.visit(url)


#%%
html = browser.html
weather_soup = BeautifulSoup(html, 'html.parser')


#%%
# First, find a tweet with the data-name `Mars Weather`
mars_weather_tweet = weather_soup.find('div', attrs={"class": "tweet", "data-name": "Mars Weather"})


#%%
# Next, search within the tweet for the p tag containing the tweet text
mars_weather = mars_weather_tweet.find('p', 'tweet-text').get_text()
mars_weather

#%% [markdown]
# ## Mars Hemispheres

#%%
url = 'https://astrogeology.usgs.gov/search/results?q=hemisphere+enhanced&k1=target&v1=Mars'
browser.visit(url)


#%%
hemisphere_image_urls = []

# First, get a list of all of the hemispheres
links = browser.find_by_css("a.product-item h3")

# Next, loop through those links, click the link, find the sample anchor, return the href
for i in range(len(links)):
    hemisphere = {}
    
    # We have to find the elements on each loop to avoid a stale element exception
    browser.find_by_css("a.product-item h3")[i].click()
    
    # Next, we find the Sample image anchor tag and extract the href
    sample_elem = browser.find_link_by_text('Sample').first
    hemisphere['img_url'] = sample_elem['href']
    
    # Get Hemisphere title
    hemisphere['title'] = browser.find_by_css("h2.title").text
    
    # Append hemisphere object to list
    hemisphere_image_urls.append(hemisphere)
    
    # Finally, we navigate backwards
    browser.back()
    


#%%
hemisphere_image_urls

#%% [markdown]
# ## Mars Facts

#%%
import pandas as pd
df = pd.read_html('https://space-facts.com/mars/')[0]
df.columns=['description', 'value']
df.set_index('description', inplace=True)
df


#%%
df.to_html()


#%%
browser.quit()


